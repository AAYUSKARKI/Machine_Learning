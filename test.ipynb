{
 "cells": [
  {
   "cell_type": "code",
   "execution_count": 1,
   "metadata": {},
   "outputs": [
    {
     "name": "stdout",
     "output_type": "stream",
     "text": [
      "aayus 21 10000\n"
     ]
    }
   ],
   "source": [
    "name = \"aayus\"\n",
    "age= 21\n",
    "salary = 10000\n",
    "print(name,age,salary)"
   ]
  },
  {
   "cell_type": "code",
   "execution_count": 2,
   "metadata": {},
   "outputs": [
    {
     "name": "stdout",
     "output_type": "stream",
     "text": [
      "True\n"
     ]
    },
    {
     "data": {
      "text/plain": [
       "bool"
      ]
     },
     "execution_count": 2,
     "metadata": {},
     "output_type": "execute_result"
    }
   ],
   "source": [
    "is_open = True\n",
    "print(is_open)\n",
    "type(is_open)"
   ]
  },
  {
   "cell_type": "code",
   "execution_count": 3,
   "metadata": {},
   "outputs": [
    {
     "name": "stdout",
     "output_type": "stream",
     "text": [
      "the city is mumbai and its population is 100000 and its capital is True and its latitude is 19.076\n"
     ]
    }
   ],
   "source": [
    "city = \"mumbai\"\n",
    "population = 100000\n",
    "is_capital = True\n",
    "latitude = 19.0760\n",
    "print('the city is {} and its population is {} and its capital is {} and its latitude is {}'.format(city,population,is_capital,latitude))"
   ]
  },
  {
   "cell_type": "code",
   "execution_count": 6,
   "metadata": {},
   "outputs": [
    {
     "name": "stdout",
     "output_type": "stream",
     "text": [
      "40 your grade is E\n"
     ]
    }
   ],
   "source": [
    "per = input(\"enter your marks\")\n",
    "\n",
    "if(int(per)>=90):\n",
    "    print(f\"{per} your grade is A\")\n",
    "elif(int(per)>=80):\n",
    "    print(f\"{per} your grade is B\")\n",
    "elif(int(per)>=70):\n",
    "    print(f\"{per} your grade is C\")\n",
    "elif(int(per)>=60):\n",
    "    print(f\"{per} your grade is D\")\n",
    "else:\n",
    "    print(f\"{per} your grade is E\")"
   ]
  },
  {
   "cell_type": "code",
   "execution_count": 7,
   "metadata": {},
   "outputs": [
    {
     "name": "stdout",
     "output_type": "stream",
     "text": [
      "mumbai\n",
      "100000\n",
      "True\n",
      "19.076\n"
     ]
    }
   ],
   "source": [
    "my_list = [city,population,is_capital,latitude]\n",
    "\n",
    "for i in my_list:\n",
    "    print(i)"
   ]
  },
  {
   "cell_type": "code",
   "execution_count": 8,
   "metadata": {},
   "outputs": [
    {
     "name": "stdout",
     "output_type": "stream",
     "text": [
      "1\n",
      "2\n",
      "3\n",
      "4\n",
      "5\n",
      "6\n",
      "7\n",
      "8\n",
      "9\n",
      "10\n"
     ]
    }
   ],
   "source": [
    "for i in range(1,11):\n",
    "    print(i)"
   ]
  },
  {
   "cell_type": "code",
   "execution_count": 10,
   "metadata": {},
   "outputs": [
    {
     "name": "stdout",
     "output_type": "stream",
     "text": [
      "[1, 8, 27, 64, 125, 216, 343, 512, 729, 1000]\n"
     ]
    }
   ],
   "source": [
    "cubes = [x**3 for x in range(1, 11)]\n",
    "print(cubes)\n"
   ]
  },
  {
   "cell_type": "code",
   "execution_count": 12,
   "metadata": {},
   "outputs": [
    {
     "name": "stdout",
     "output_type": "stream",
     "text": [
      "2\n",
      "4\n",
      "6\n",
      "8\n",
      "10\n"
     ]
    }
   ],
   "source": [
    "for i in range(1,11):\n",
    "    if(i%2==0):\n",
    "        print(i)"
   ]
  },
  {
   "cell_type": "code",
   "execution_count": 14,
   "metadata": {},
   "outputs": [
    {
     "name": "stdout",
     "output_type": "stream",
     "text": [
      "2\n",
      "4\n",
      "6\n",
      "8\n",
      "10\n"
     ]
    }
   ],
   "source": [
    "for i in range(2,11,2):\n",
    "    print(i)"
   ]
  },
  {
   "cell_type": "code",
   "execution_count": 15,
   "metadata": {},
   "outputs": [
    {
     "name": "stdout",
     "output_type": "stream",
     "text": [
      "1\n",
      "3\n",
      "5\n",
      "7\n",
      "9\n"
     ]
    }
   ],
   "source": [
    "for i in range(1,11,2):\n",
    "    print(i)"
   ]
  },
  {
   "cell_type": "code",
   "execution_count": 18,
   "metadata": {},
   "outputs": [
    {
     "name": "stdout",
     "output_type": "stream",
     "text": [
      "[100, 121, 144, 169, 196, 225]\n"
     ]
    }
   ],
   "source": [
    "squares = [x**2 for x in range(10, 16)]\n",
    "print(squares)"
   ]
  },
  {
   "cell_type": "code",
   "execution_count": 22,
   "metadata": {},
   "outputs": [
    {
     "name": "stdout",
     "output_type": "stream",
     "text": [
      "The square of 10 is 100\n",
      "The square of 11 is 121\n",
      "The square of 12 is 144\n",
      "The square of 13 is 169\n",
      "The square of 14 is 196\n",
      "The square of 15 is 225\n"
     ]
    }
   ],
   "source": [
    "square = [10, 11, 12, 13, 14, 15]\n",
    "\n",
    "for i in square:\n",
    "    print(f'The square of {i} is {i**2}')\n"
   ]
  },
  {
   "cell_type": "code",
   "execution_count": 26,
   "metadata": {},
   "outputs": [
    {
     "name": "stdout",
     "output_type": "stream",
     "text": [
      "hello aayus\n",
      "welcome to our ml training lab\n"
     ]
    }
   ],
   "source": [
    "def greet(name):\n",
    "    print(f'hello {name}')\n",
    "    print('welcome to our ml training lab')\n",
    "\n",
    "greet('aayus')"
   ]
  },
  {
   "cell_type": "code",
   "execution_count": 27,
   "metadata": {},
   "outputs": [
    {
     "name": "stdout",
     "output_type": "stream",
     "text": [
      "30\n"
     ]
    }
   ],
   "source": [
    "def add(num1, num2):\n",
    "    return num1 + num2\n",
    "\n",
    "result = add(10, 20)\n",
    "print(result)"
   ]
  },
  {
   "cell_type": "code",
   "execution_count": 29,
   "metadata": {},
   "outputs": [
    {
     "name": "stdout",
     "output_type": "stream",
     "text": [
      "120\n"
     ]
    }
   ],
   "source": [
    "def fact(num):\n",
    "    if num == 1:\n",
    "        return 1\n",
    "    else:\n",
    "        return num * fact(num-1)\n",
    "\n",
    "print(fact(5))"
   ]
  },
  {
   "cell_type": "code",
   "execution_count": 31,
   "metadata": {},
   "outputs": [
    {
     "name": "stdout",
     "output_type": "stream",
     "text": [
      "120\n",
      "3628800\n"
     ]
    }
   ],
   "source": [
    "def fact (num):\n",
    "    for i in range(1,num):\n",
    "        num *= i\n",
    "    return num\n",
    "\n",
    "print(fact(5))\n",
    "print(fact(10))"
   ]
  },
  {
   "cell_type": "code",
   "execution_count": 41,
   "metadata": {},
   "outputs": [
    {
     "name": "stdout",
     "output_type": "stream",
     "text": [
      "hello elder bro aayus\n",
      "hello kid bro aayus\n",
      "hello kid bro aayus\n",
      "hello elder bro aayus\n",
      "hello kid bro aayus\n"
     ]
    }
   ],
   "source": [
    "def greet(name,ag=21):\n",
    "    if(ag>=18):\n",
    "        print(f'hello elder bro {name}')\n",
    "    else:\n",
    "        print(f'hello kid bro {name}')\n",
    "\n",
    "greet('aayus',21)\n",
    "greet('aayus',17)\n",
    "greet('aayus',10)\n",
    "greet('aayus')\n",
    "greet(ag=10,name=('aayus'))"
   ]
  },
  {
   "cell_type": "code",
   "execution_count": 43,
   "metadata": {},
   "outputs": [
    {
     "name": "stdout",
     "output_type": "stream",
     "text": [
      "[10, 11, 12, 20, 13, 14, 15, 16]\n",
      "10\n"
     ]
    }
   ],
   "source": [
    "my_list = [10, 11, 12, 13, 14, 15]\n",
    "my_list.append(16)\n",
    "my_list.insert(3, 20)\n",
    "print(my_list)\n",
    "print(my_list[0])"
   ]
  },
  {
   "cell_type": "code",
   "execution_count": 44,
   "metadata": {},
   "outputs": [
    {
     "name": "stdout",
     "output_type": "stream",
     "text": [
      "[10, 11, 12]\n"
     ]
    }
   ],
   "source": [
    "new_list = my_list[0:3]\n",
    "print(new_list)"
   ]
  },
  {
   "cell_type": "code",
   "execution_count": 10,
   "metadata": {},
   "outputs": [
    {
     "name": "stdout",
     "output_type": "stream",
     "text": [
      "dharan\n",
      "['dharan', 'letang', 'pathri']\n",
      "['dharan', 'pathri', 'ktm']\n",
      "['biratnagar', 'dharan', 'letang', 'pathri']\n"
     ]
    }
   ],
   "source": [
    "cities = ['biratnagar','dharan','letang','pathri','pokhara','ktm']\n",
    "print(cities[1])\n",
    "\n",
    "subset=cities[1:4]\n",
    "print(subset)\n",
    "\n",
    "subset=cities[1::2]\n",
    "print(subset)\n",
    "\n",
    "subset=cities[:4]\n",
    "print(subset)"
   ]
  }
 ],
 "metadata": {
  "kernelspec": {
   "display_name": "Python 3",
   "language": "python",
   "name": "python3"
  },
  "language_info": {
   "codemirror_mode": {
    "name": "ipython",
    "version": 3
   },
   "file_extension": ".py",
   "mimetype": "text/x-python",
   "name": "python",
   "nbconvert_exporter": "python",
   "pygments_lexer": "ipython3",
   "version": "3.12.3"
  }
 },
 "nbformat": 4,
 "nbformat_minor": 2
}
